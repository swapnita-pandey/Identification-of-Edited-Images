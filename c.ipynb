{
  "cells": [
    {
      "cell_type": "markdown",
      "metadata": {
        "id": "aVg4zR-GIRkL"
      },
      "source": [
        "# Fake Image Detection "
      ]
    },
    {
      "cell_type": "markdown",
      "metadata": {
        "id": "fodd-0kSIRkQ"
      },
      "source": [
        "## Importing Libraries"
      ]
    },
    {
      "cell_type": "code",
      "execution_count": 23,
      "metadata": {
        "id": "qn4Bm2xBIRkQ",
        "pycharm": {
          "is_executing": false
        },
        "scrolled": true
      },
      "outputs": [],
      "source": [
        "import numpy as np\n",
        "import matplotlib.pyplot as plt\n",
        "%matplotlib inline\n",
        "#to generate same sequence of random numbers in whole file\n",
        "np.random.seed(2)\n",
        "from sklearn.model_selection import train_test_split\n",
        "from sklearn.metrics import confusion_matrix\n",
        "from tensorflow.keras.utils import to_categorical\n",
        "from keras.models import Sequential\n",
        "from keras.layers import Dense, Flatten, Conv2D, MaxPool2D, Dropout\n",
        "from tensorflow.keras.optimizers import Adam\n",
        "from keras.preprocessing.image import ImageDataGenerator\n",
        "#It is used during the training of a neural network to monitor a \n",
        "# specified metric (typically a validation metric) and stop training\n",
        "#  early if certain criteria are met. The purpose of using EarlyStopping\n",
        "#  is to prevent overfitting and to save time and resources when further\n",
        "#  training is unlikely to improve the model's performance.\n",
        "from keras.callbacks import EarlyStopping\n"
      ]
    },
    {
      "cell_type": "markdown",
      "metadata": {},
      "source": [
        "PIL provides extensive capabilities for opening, manipulating, and saving many different image file formats.\n",
        "\n",
        "to open image\n",
        "\n",
        "ImageEnhance =>  can manipulate pixel colors in images, apply color mapping, and adjust brightness, contrast, and other color-related properties.\n",
        "\n",
        "ImageChops => It provides various arithmetic and logical operations that you can perform on images."
      ]
    },
    {
      "cell_type": "code",
      "execution_count": 24,
      "metadata": {
        "id": "_IJUVsvqIRkT",
        "pycharm": {
          "is_executing": false
        }
      },
      "outputs": [],
      "source": [
        "from PIL import Image\n",
        "import os\n",
        "from pylab import *\n",
        "import re\n",
        "from PIL import Image, ImageChops, ImageEnhance"
      ]
    },
    {
      "cell_type": "markdown",
      "metadata": {
        "id": "gk0SXUo_IRkU"
      },
      "source": [
        "## Making Dataset"
      ]
    },
    {
      "cell_type": "markdown",
      "metadata": {
        "id": "dXjFUHxWIRkW"
      },
      "source": [
        "## Convert to Error Level Analysis"
      ]
    },
    {
      "cell_type": "markdown",
      "metadata": {},
      "source": [
        "In summary, this code takes an input image, compresses it, calculates the difference between the original and compressed versions, scales the difference image, and enhances its brightness. The resulting ELA image highlights areas where digital manipulation may have occurred by making the manipulated regions appear as brighter or darker areas compared to the rest of the image.\n",
        "\n",
        "It generates ela_Image by enhancing brightness on the scale of pixel difference(difference between original and converted RGB image)"
      ]
    },
    {
      "cell_type": "code",
      "execution_count": 25,
      "metadata": {
        "id": "ZdBxF3y6IRkX",
        "pycharm": {
          "is_executing": false
        }
      },
      "outputs": [],
      "source": [
        "def convert_to_ela_image(path, quality):\n",
        "    # creating a temporary filename for an intermediate image\n",
        "    temp_filename = 'temp_file_name.jpg'\n",
        "    # filename for ela image that will be generated\n",
        "    ela_filename = 'temp_ela.png'\n",
        "    \n",
        "    # open image and convert to RGB\n",
        "    image = Image.open(path).convert('RGB')\n",
        "\n",
        "    # save image as jpg and keep quality as before\n",
        "    image.save(temp_filename, 'JPEG', quality = quality)\n",
        "    temp_image = Image.open(temp_filename)\n",
        "    \n",
        "    # calculate pixel difference between original image and RGB (new image) \n",
        "    # which will represents areas of image that have been altered.\n",
        "    ela_image = ImageChops.difference(image, temp_image)\n",
        "    \n",
        "    # calculating minimum and maximum pixel values in the images\n",
        "    extrema = ela_image.getextrema()\n",
        "\n",
        "    # finds the maximum difference value among the extrema. This value is used to scale the ELA image.\n",
        "    max_diff = max([ex[1] for ex in extrema])\n",
        "\n",
        "    # ensuring max_diff is not zero to avoid division by zero.\n",
        "    if max_diff == 0:\n",
        "        max_diff = 1\n",
        "\n",
        "    # calculates a scaling factor based on the maximum difference value. This factor\n",
        "    # is used to stretch the ELA image's pixel values across the full 0-255 range.\n",
        "    scale = 255.0 / max_diff\n",
        "    \n",
        "    # enhances the brightness of the ELA image by applying the previously calculated \n",
        "    # scaling factor for making the manipulated regions stand out more distinctly.\n",
        "    ela_image = ImageEnhance.Brightness(ela_image).enhance(scale)\n",
        "    \n",
        "    return ela_image"
      ]
    },
    {
      "cell_type": "markdown",
      "metadata": {
        "id": "coyRtK_DIRka"
      },
      "source": [
        "\n",
        "## Data preparation"
      ]
    },
    {
      "cell_type": "markdown",
      "metadata": {
        "id": "IbV4G3ifIRkb"
      },
      "source": [
        "### Read dataset and conversion to ELA"
      ]
    },
    {
      "cell_type": "code",
      "execution_count": 26,
      "metadata": {
        "id": "LLd2r5toIRkb",
        "pycharm": {
          "is_executing": false
        }
      },
      "outputs": [],
      "source": [
        "image_size = (128, 128)\n",
        "# image_size = (224, 224)\n",
        "# image_size = (139, 139)\n"
      ]
    },
    {
      "cell_type": "code",
      "execution_count": 27,
      "metadata": {},
      "outputs": [],
      "source": [
        "from tensorflow.keras.applications import InceptionV3"
      ]
    },
    {
      "cell_type": "markdown",
      "metadata": {},
      "source": [
        "this function converts the image into ela_image then resize it and flattens it to store in the 1D array as CNN requires data to be in 1D array "
      ]
    },
    {
      "cell_type": "code",
      "execution_count": 28,
      "metadata": {
        "id": "SHLbguFLMlrO"
      },
      "outputs": [],
      "source": [
        "def prepare_image(image_path):\n",
        "    return np.array(convert_to_ela_image(image_path, 90).resize(image_size)).flatten() / 255.0\n",
        "    "
      ]
    },
    {
      "cell_type": "code",
      "execution_count": 29,
      "metadata": {},
      "outputs": [
        {
          "data": {
            "text/plain": [
              "'def prepare_image(image_path, quality):\\n    ela_image = convert_to_ela_image(image_path, quality)\\n    ela_image = np.array(ela_image.resize(image_size)).flatten() / 255.0\\n    return ela_image\\n'"
            ]
          },
          "execution_count": 29,
          "metadata": {},
          "output_type": "execute_result"
        }
      ],
      "source": [
        "'''def prepare_image(image_path, quality):\n",
        "    ela_image = convert_to_ela_image(image_path, quality)\n",
        "    ela_image = np.array(ela_image.resize(image_size)).flatten() / 255.0\n",
        "    return ela_image\n",
        "'''\n"
      ]
    },
    {
      "cell_type": "code",
      "execution_count": 30,
      "metadata": {
        "id": "UuLhY_4tIRkc",
        "pycharm": {
          "is_executing": false
        }
      },
      "outputs": [],
      "source": [
        "X = []\n",
        "Y = []"
      ]
    },
    {
      "cell_type": "markdown",
      "metadata": {},
      "source": [
        "this function processes all the files present in Au and convert them:\n",
        "\n",
        "first into ela_image and after resizing it, it flattens the layers of image and converts in 1D array\n",
        "\n",
        "X stores all the flattened images and Y store the count of images"
      ]
    },
    {
      "cell_type": "code",
      "execution_count": 31,
      "metadata": {
        "colab": {
          "base_uri": "https://localhost:8080/"
        },
        "id": "j49G13jOIRkc",
        "outputId": "9d0a0f6c-204d-4507-c838-8e721a94fea6",
        "pycharm": {
          "is_executing": false
        }
      },
      "outputs": [
        {
          "name": "stdout",
          "output_type": "stream",
          "text": [
            "Processing 500 images\n",
            "Processing 1000 images\n",
            "Processing 1500 images\n",
            "Processing 2000 images\n",
            "Processing 2500 images\n",
            "Processing 3000 images\n",
            "Processing 3500 images\n",
            "Processing 4000 images\n",
            "Processing 4500 images\n",
            "Processing 5000 images\n",
            "5123 5123\n"
          ]
        }
      ],
      "source": [
        "import random\n",
        "#path = 'C:/Users/swapn/Downloads/mesonet/dataset/CASIA2/Au'\n",
        "path= 'D:/major_project/dataset/real'\n",
        "for dirname, _, filenames in os.walk(path):\n",
        "    for filename in filenames:\n",
        "        # if filename.endswith('jpg') or filename.endswith('png') or filename.endswith('tif'):\n",
        "            full_path = os.path.join(dirname, filename)\n",
        "            X.append(prepare_image(full_path))\n",
        "            Y.append(1)\n",
        "            if len(Y) % 500 == 0:\n",
        "                print(f'Processing {len(Y)} images')\n",
        "\n",
        "random.shuffle(X)\n",
        "# X = X[:2100]\n",
        "# Y = Y[:2100]\n",
        "print(len(X), len(Y))"
      ]
    },
    {
      "cell_type": "markdown",
      "metadata": {},
      "source": [
        "this function processes all the files present in Tp and convert them:\n",
        "\n",
        "first into ela_image and after resizing it, it flattens the layers of image and converts in 1D array\n",
        "\n",
        "X stores all the flattened images and Y store the count of images\n",
        "\n",
        "now X stores all the images(Au + Tp)"
      ]
    },
    {
      "cell_type": "code",
      "execution_count": 32,
      "metadata": {
        "colab": {
          "base_uri": "https://localhost:8080/"
        },
        "id": "mGitNgdJIRkd",
        "outputId": "4f023d73-e678-4be2-87f1-b4c89dbc0d88",
        "pycharm": {
          "is_executing": false
        }
      },
      "outputs": [
        {
          "name": "stdout",
          "output_type": "stream",
          "text": [
            "Processing 5500 images\n",
            "Processing 6000 images\n",
            "Processing 6500 images\n",
            "Processing 7000 images\n",
            "Processing 7500 images\n",
            "Processing 8000 images\n",
            "Processing 8500 images\n",
            "Processing 9000 images\n",
            "Processing 9500 images\n",
            "Processing 10000 images\n",
            "10246 10246\n"
          ]
        }
      ],
      "source": [
        "path = 'D:/major_project/dataset/fake'\n",
        "#path = '/content/drive/MyDrive/Colab Notebooks/Image_Detector/CASIA2/Fake'\n",
        "for dirname, _, filenames in os.walk(path):\n",
        "    for filename in filenames:\n",
        "        # if filename.endswith('jpg') or filename.endswith('png'):\n",
        "            full_path = os.path.join(dirname, filename)\n",
        "            X.append(prepare_image(full_path))\n",
        "            Y.append(0)\n",
        "            if len(Y) % 500 == 0:\n",
        "                print(f'Processing {len(Y)} images')\n",
        "\n",
        "print(len(X), len(Y))"
      ]
    },
    {
      "cell_type": "code",
      "execution_count": 33,
      "metadata": {
        "id": "7mBhluLlIRkd",
        "pycharm": {
          "is_executing": false
        }
      },
      "outputs": [],
      "source": [
        "# converting X into array \n",
        "X = np.array(X)\n",
        "#used when you have a target variable (labels or classes) that is represented as integers and you want to convert it into a binary matrix format suitable for training machine learning models, especially neural networks.\n",
        "# In Y there are two classes 1 for real and 0 for fake so to_categorical() converts this array into 2D array of labelled classes.\n",
        "# this Y will look like [[1,0],[0,1]] for 0 and 1 label.\n",
        "Y = to_categorical(Y, 2)\n",
        "# # Reshape image data for a convolutional neural network\n",
        "#  # Batch size, height, width, channels\n",
        "X = X.reshape(-1, 128, 128, 3)\n",
        "# X = X.reshape(-1, 139, 139, 3)"
      ]
    },
    {
      "cell_type": "markdown",
      "metadata": {},
      "source": [
        "# InceptionV3"
      ]
    },
    {
      "cell_type": "code",
      "execution_count": 34,
      "metadata": {},
      "outputs": [],
      "source": [
        "from tensorflow.keras.applications import InceptionV3\n",
        "from tensorflow.keras.models import Sequential\n",
        "from tensorflow.keras.layers import GlobalAveragePooling2D, Flatten, Dense, Dropout\n",
        "from tensorflow.keras.optimizers import Adam\n",
        "from tensorflow.keras.preprocessing.image import ImageDataGenerator\n",
        "from tensorflow.keras.callbacks import EarlyStopping\n",
        "from tensorflow.keras.applications.inception_v3 import preprocess_input"
      ]
    },
    {
      "cell_type": "code",
      "execution_count": 35,
      "metadata": {},
      "outputs": [],
      "source": [
        "from tensorflow.keras.applications import Xception\n",
        "\n",
        "base_model = Xception(weights='imagenet', include_top=False, input_shape=(128, 128, 3))\n"
      ]
    },
    {
      "cell_type": "code",
      "execution_count": 36,
      "metadata": {},
      "outputs": [],
      "source": [
        "\n",
        "# Create a sequential model and add the VGG16 base model\n",
        "model = Sequential()\n",
        "model.add(base_model)\n",
        "\n",
        "# Flatten the output from the base model\n",
        "model.add(Flatten())\n",
        "\n",
        "# Add a dense layer with ReLU activation\n",
        "model.add(Dense(256, activation='relu'))\n",
        "\n",
        "# Add a dropout layer to prevent overfitting\n",
        "model.add(Dropout(0.5))\n",
        "\n",
        "# Add the output layer with softmax activation (2 classes: fake and real)\n",
        "model.add(Dense(2, activation='softmax'))\n"
      ]
    },
    {
      "cell_type": "markdown",
      "metadata": {},
      "source": [
        "# Splitting"
      ]
    },
    {
      "cell_type": "markdown",
      "metadata": {},
      "source": [
        "Splitting the dataset into features (X) and target labels (Y)\n",
        "\n",
        "Splitting the data into a training set (80%) and a testing set (20%)"
      ]
    },
    {
      "cell_type": "code",
      "execution_count": 37,
      "metadata": {},
      "outputs": [
        {
          "name": "stdout",
          "output_type": "stream",
          "text": [
            "7172 7172\n",
            "3074 3074\n"
          ]
        }
      ],
      "source": [
        "X_train, X_val, Y_train, Y_val = train_test_split(X, Y, test_size = 0.3, random_state=5)\n",
        "# again converting 2D array to 1D array\n",
        "X = X.reshape(-1,1,1,1)\n",
        "\n",
        "\n",
        "print(len(X_train), len(Y_train))\n",
        "print(len(X_val), len(Y_val))"
      ]
    },
    {
      "cell_type": "code",
      "execution_count": 38,
      "metadata": {},
      "outputs": [],
      "source": [
        "model.compile(optimizer=Adam(learning_rate=0.0001), loss='categorical_crossentropy', metrics=['accuracy'])\n",
        "\n"
      ]
    },
    {
      "cell_type": "code",
      "execution_count": 39,
      "metadata": {},
      "outputs": [],
      "source": [
        "\n",
        "batch_size = 32\n",
        "epochs = 10"
      ]
    },
    {
      "cell_type": "code",
      "execution_count": 40,
      "metadata": {},
      "outputs": [],
      "source": [
        "early_stopping = EarlyStopping(monitor = 'val_accuracy',\n",
        "                              min_delta = 0,\n",
        "                              patience = 2,\n",
        "                              verbose = 0,\n",
        "                              mode = 'auto')"
      ]
    },
    {
      "cell_type": "code",
      "execution_count": 41,
      "metadata": {},
      "outputs": [
        {
          "name": "stdout",
          "output_type": "stream",
          "text": [
            "Epoch 1/10\n",
            "225/225 [==============================] - 871s 4s/step - loss: 0.4063 - accuracy: 0.8356 - val_loss: 0.8874 - val_accuracy: 0.5921\n",
            "Epoch 2/10\n",
            "225/225 [==============================] - 1078s 5s/step - loss: 0.1909 - accuracy: 0.9166 - val_loss: 0.5534 - val_accuracy: 0.7772\n",
            "Epoch 3/10\n",
            "225/225 [==============================] - 973s 4s/step - loss: 0.1243 - accuracy: 0.9406 - val_loss: 0.3466 - val_accuracy: 0.8917\n",
            "Epoch 4/10\n",
            "225/225 [==============================] - 959s 4s/step - loss: 0.1061 - accuracy: 0.9548 - val_loss: 0.6876 - val_accuracy: 0.8861\n",
            "Epoch 5/10\n",
            "225/225 [==============================] - 905s 4s/step - loss: 0.0812 - accuracy: 0.9653 - val_loss: 0.5395 - val_accuracy: 0.8764\n"
          ]
        }
      ],
      "source": [
        "\n",
        "history = model.fit(X_train, Y_train, batch_size=batch_size, epochs=10, validation_data=(X_val, Y_val), callbacks=[early_stopping])\n"
      ]
    },
    {
      "cell_type": "code",
      "execution_count": 42,
      "metadata": {},
      "outputs": [
        {
          "name": "stdout",
          "output_type": "stream",
          "text": [
            "Epoch 1/10\n",
            "225/225 [==============================] - 3126s 14s/step - loss: 0.0723 - accuracy: 0.9723 - val_loss: 0.5163 - val_accuracy: 0.8910\n",
            "Epoch 2/10\n",
            "225/225 [==============================] - 1513s 7s/step - loss: 0.0596 - accuracy: 0.9791 - val_loss: 0.5794 - val_accuracy: 0.8897\n",
            "Epoch 3/10\n",
            "225/225 [==============================] - 1472s 7s/step - loss: 0.0645 - accuracy: 0.9766 - val_loss: 0.4341 - val_accuracy: 0.8917\n",
            "Epoch 4/10\n",
            "225/225 [==============================] - 1463s 7s/step - loss: 0.0757 - accuracy: 0.9739 - val_loss: 0.4659 - val_accuracy: 0.8848\n",
            "Epoch 5/10\n",
            "225/225 [==============================] - 2168s 10s/step - loss: 0.0833 - accuracy: 0.9696 - val_loss: 0.4044 - val_accuracy: 0.8848\n"
          ]
        }
      ],
      "source": [
        "\n",
        "history = model.fit(X_train, Y_train, batch_size=batch_size, epochs=10, validation_data=(X_val, Y_val), callbacks=[early_stopping])\n"
      ]
    },
    {
      "cell_type": "code",
      "execution_count": 43,
      "metadata": {},
      "outputs": [
        {
          "name": "stderr",
          "output_type": "stream",
          "text": [
            "C:\\Users\\swapn\\AppData\\Roaming\\Python\\Python311\\site-packages\\keras\\src\\engine\\training.py:3000: UserWarning: You are saving your model as an HDF5 file via `model.save()`. This file format is considered legacy. We recommend using instead the native Keras format, e.g. `model.save('my_model.keras')`.\n",
            "  saving_api.save_model(\n"
          ]
        }
      ],
      "source": [
        "\n",
        "model.save('model_Xception_fake_detection.h5')"
      ]
    },
    {
      "cell_type": "code",
      "execution_count": 44,
      "metadata": {},
      "outputs": [
        {
          "name": "stdout",
          "output_type": "stream",
          "text": [
            "97/97 [==============================] - 116s 1s/step\n",
            "Overall Accuracy on Validation Set: 88.484060%\n",
            "Classification Report on Validation Set:\n",
            "              precision    recall  f1-score   support\n",
            "\n",
            "        fake       0.90      0.87      0.88      1543\n",
            "        real       0.88      0.90      0.89      1531\n",
            "\n",
            "    accuracy                           0.88      3074\n",
            "   macro avg       0.89      0.88      0.88      3074\n",
            "weighted avg       0.89      0.88      0.88      3074\n",
            "\n",
            "Confusion Matrix on Validation Set:\n",
            "[[1347  196]\n",
            " [ 158 1373]]\n",
            "False Positive Rate (FPR): 12.702528%\n",
            "False Negative Rate (FNR): 10.320052%\n",
            "Cohen's Kappa on Validation Set: 0.769700\n"
          ]
        }
      ],
      "source": [
        "from sklearn.metrics import classification_report, confusion_matrix, accuracy_score, cohen_kappa_score\n",
        "class_names = ['fake', 'real']\n",
        "# After training the model, you can use X_val and Y_val for evaluation\n",
        "Y_pred_val = model.predict(X_val)\n",
        "\n",
        "# Convert predictions classes to one hot vectors\n",
        "Y_pred_classes_val = np.argmax(Y_pred_val, axis=1)\n",
        "# Convert validation observations to one hot vectors\n",
        "Y_true_val = np.argmax(Y_val, axis=1)\n",
        "\n",
        "# Calculate overall accuracy on validation set\n",
        "overall_accuracy_val = accuracy_score(Y_true_val, Y_pred_classes_val)\n",
        "print(f'Overall Accuracy on Validation Set: {overall_accuracy_val * 100:.6f}%')\n",
        "\n",
        "# Calculate other metrics using classification_report\n",
        "report_val = classification_report(Y_true_val, Y_pred_classes_val, target_names=class_names)\n",
        "print('Classification Report on Validation Set:')\n",
        "print(report_val)\n",
        "\n",
        "# Calculate confusion matrix on validation set\n",
        "conf_matrix_val = confusion_matrix(Y_true_val, Y_pred_classes_val)\n",
        "print('Confusion Matrix on Validation Set:')\n",
        "print(conf_matrix_val)\n",
        "\n",
        "true_positive = conf_matrix_val[1, 1]\n",
        "false_positive = conf_matrix_val[0, 1]\n",
        "false_negative = conf_matrix_val[1, 0]\n",
        "true_negative = conf_matrix_val[0, 0]\n",
        "\n",
        "# Calculate False Positive Rate (FPR) and False Negative Rate (FNR)\n",
        "fpr = false_positive / (false_positive + true_negative)\n",
        "fnr = false_negative / (false_negative + true_positive)\n",
        "\n",
        "print(f'False Positive Rate (FPR): {fpr * 100:.6f}%')\n",
        "print(f'False Negative Rate (FNR): {fnr * 100:.6f}%')\n",
        "\n",
        "# Calculate Cohen's Kappa on validation set\n",
        "cohen_kappa_val = cohen_kappa_score(Y_true_val, Y_pred_classes_val)\n",
        "print(f'Cohen\\'s Kappa on Validation Set: {cohen_kappa_val:.6f}')"
      ]
    }
  ],
  "metadata": {
    "accelerator": "GPU",
    "colab": {
      "collapsed_sections": [],
      "name": "Fake Image .ipynb",
      "provenance": []
    },
    "kernelspec": {
      "display_name": "Python 3",
      "name": "python3"
    },
    "language_info": {
      "codemirror_mode": {
        "name": "ipython",
        "version": 3
      },
      "file_extension": ".py",
      "mimetype": "text/x-python",
      "name": "python",
      "nbconvert_exporter": "python",
      "pygments_lexer": "ipython3",
      "version": "3.11.4"
    },
    "pycharm": {
      "stem_cell": {
        "cell_type": "raw",
        "metadata": {
          "collapsed": false
        },
        "source": []
      }
    }
  },
  "nbformat": 4,
  "nbformat_minor": 0
}
