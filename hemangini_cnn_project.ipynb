{
  "cells": [
    {
      "cell_type": "code",
      "execution_count": 23,
      "metadata": {
        "id": "N3vxufwA1_hV"
      },
      "outputs": [],
      "source": [
        "# Importing the required libraries\n",
        "import os\n",
        "import cv2\n",
        "import glob\n",
        "import zipfile\n",
        "import numpy as np\n",
        "from tqdm import tqdm\n",
        "from urllib import request\n",
        "#from google.colab import drive"
      ]
    },
    {
      "cell_type": "code",
      "execution_count": 24,
      "metadata": {
        "colab": {
          "base_uri": "https://localhost:8080/"
        },
        "id": "9exMzhg69aK8",
        "outputId": "883b3968-2802-40f8-ade0-4b18f836c34b"
      },
      "outputs": [],
      "source": [
        "#you need to replace this by the location of the dataset on your drive\n",
        "# datasetloc=\"/content/drive/MyDrive/Hemangini Projects/dataset\"\n",
        "#! wget -q https://storage.googleapis.com/drive-bulk-export-anonymous/20220428T122708Z/4133399871716478688/aa76fc5c-9354-4b5f-ae56-aca2048e1129/1/acf3a9e4-29f2-415b-86b6-f7ba375e19ee?authuser -O dataset.zip\n",
        "# drive.mount('/content/drive')\n",
        "# datasetloc=\"/content/drive/MyDrive/Colab Notebooks/dataset\"\n",
        "\n",
        "# ! wget -q https://tinyurl.com/r5ut6tjx -O dataset.zip\n",
        "# ! unzip -oqq dataset\n",
        "# datasetloc=\"./dataset\"\n",
        "\n",
        "\n",
        "#if not os.path.exists(\"./dataset.zip\"):\n",
        "#    response = request.urlretrieve(\"https://drive.google.com/file/d/1z_B2zhcjl0heRbdRGUTQKwC82WqDjBLb/view?usp=sharing\", \"dataset.zip\")\n",
        "#    with zipfile.ZipFile(\"dataset.zip\", 'r') as zip_ref:\n",
        "#        zip_ref.extractall(\".\")\n",
        "#datasetloc=\"./dataset\"\n",
        "\n",
        "#-----------------------------------------------------------------------------------------------\n",
        "# The dataset has been obtained from Kaggle with the dataset called Real and Fake Face Detection\n",
        "# It has been published by the Computational Intelligence and Photography Lab\n",
        "# Department of Computer Science, Yonsei University\n",
        "# https://www.kaggle.com/datasets/ciplab/real-and-fake-face-detection\n",
        "\n",
        "\n",
        "#drive.mount('/content/drive')\n",
        "datasetloc = \"D:/major_project/one/Identifying-Human-Edited-Images-master/data/real_and_fake_face\"\n",
        "#datasetloc = \"/content/drive/My Drive/Colab Notebooks/Artificial Intelligence/Data/dataset\""
      ]
    },
    {
      "cell_type": "code",
      "execution_count": 25,
      "metadata": {
        "id": "j4KDvUGL2lub"
      },
      "outputs": [],
      "source": [
        "# Return a list of path for the images in the folder as an array\n",
        "fakefiles=glob.glob(datasetloc+\"/training_fake/*.jpg\")"
      ]
    },
    {
      "cell_type": "code",
      "execution_count": 26,
      "metadata": {
        "colab": {
          "base_uri": "https://localhost:8080/"
        },
        "id": "XKnspHDv5sOY",
        "outputId": "28e7fe9d-a5b4-4c50-8921-cee79457c03c"
      },
      "outputs": [
        {
          "name": "stderr",
          "output_type": "stream",
          "text": [
            "100%|██████████| 960/960 [00:12<00:00, 77.69it/s] \n"
          ]
        }
      ],
      "source": [
        "#reading the FAKE images and labelling them as 1\n",
        "#tqdm helps to keep track of progress\n",
        "data=[]\n",
        "y=[]\n",
        "for f in tqdm(fakefiles):\n",
        "  # twodimg= np.zeros((128,128))\n",
        "  img=cv2.imread(f)\n",
        "  img = cv2.resize(img  , (128 , 128))\n",
        "  \n",
        "  \n",
        "  data.append(img)\n",
        "  y.append(1)"
      ]
    },
    {
      "cell_type": "code",
      "execution_count": 27,
      "metadata": {
        "id": "zmlst8Xg7jnA"
      },
      "outputs": [],
      "source": [
        "#realfiles=glob.glob(datasetloc+\"/training_real/*.jpg\")"
      ]
    },
    {
      "cell_type": "code",
      "execution_count": 28,
      "metadata": {},
      "outputs": [],
      "source": [
        "realfiles=glob.glob(datasetloc+\"/training_real1/*.jpg\")"
      ]
    },
    {
      "cell_type": "code",
      "execution_count": 29,
      "metadata": {
        "colab": {
          "base_uri": "https://localhost:8080/"
        },
        "id": "_cxRUtkj7qSl",
        "outputId": "772698a6-70b8-4a9c-c2b3-7d002972e041"
      },
      "outputs": [
        {
          "name": "stderr",
          "output_type": "stream",
          "text": [
            "100%|██████████| 960/960 [00:23<00:00, 41.14it/s]\n"
          ]
        }
      ],
      "source": [
        "# Reading the REAL images and labelling them as 0\n",
        "# Resize image so we can stay consistent with the uniformity throughout\n",
        "for f in tqdm(realfiles):\n",
        "  # twodimg= np.zeros((128,128))\n",
        "  img=cv2.imread(f)\n",
        "  img = cv2.resize(img  , (128 , 128))\n",
        "  \n",
        "  data.append(img)\n",
        "  y.append(0)\n",
        "  "
      ]
    },
    {
      "cell_type": "code",
      "execution_count": 30,
      "metadata": {
        "id": "uTMu90Zx878k"
      },
      "outputs": [],
      "source": [
        "#convering lists into arrays // Arrays of all pixelated arrays\n",
        "data = np.asarray(data)\n",
        "y = np.asarray(y)"
      ]
    },
    {
      "cell_type": "code",
      "execution_count": 31,
      "metadata": {
        "id": "3zrHSOEo90N4"
      },
      "outputs": [],
      "source": [
        "# We do a random split on the dataset at 80% and 20% with; 80% of the data would be training the model and remaining 20% of the data would be checking the model performance\n",
        "from sklearn.model_selection import train_test_split\n",
        "X_train, X_test, y_train, y_test = train_test_split(data, y, test_size=0.2, random_state=42)"
      ]
    },
    {
      "cell_type": "code",
      "execution_count": 32,
      "metadata": {
        "id": "KHHB-rid2lyA"
      },
      "outputs": [],
      "source": [
        "#importing the libraries required for our cnn model\n",
        "from keras.models import Sequential \n",
        "from keras.layers import Conv2D,MaxPool2D,Flatten,Dense,Dropout\n",
        "from keras.preprocessing.image import ImageDataGenerator\n",
        "from tensorflow.keras.optimizers import Adam\n",
        "from tensorflow.keras.utils import to_categorical\n",
        "from tensorflow.keras.optimizers import RMSprop"
      ]
    },
    {
      "cell_type": "code",
      "execution_count": 33,
      "metadata": {
        "id": "Cw0pDU8tTP-J"
      },
      "outputs": [],
      "source": [
        "# Sketched Model Architecture for FAKE an REAL image detection\n",
        "model = Sequential()\n",
        "\n",
        "model.add(Conv2D(32,(3,3),input_shape = (128,128,3),activation = 'relu',padding='same',))\n",
        "model.add(MaxPool2D(pool_size=(2,2)))\n",
        "model.add(Dropout(0.2))\n",
        "\n",
        "model.add(Conv2D(64, (3, 3), activation='relu', padding='same'))\n",
        "model.add(MaxPool2D((2, 2)))\n",
        "model.add(Dropout(0.2))\n",
        "\n",
        "model.add(Conv2D(128, (3, 3), activation='relu', padding='same'))\n",
        "model.add(MaxPool2D((2, 2)))\n",
        "model.add(Dropout(0.2))\n",
        "\n",
        "model.add(Flatten())\n",
        "\n",
        "model.add(Dense(128, activation='relu'))\n",
        "model.add(Dropout(0.5))\n",
        "model.add(Dense(1, activation='sigmoid'))\n",
        "\n",
        "model.compile(optimizer = 'adam',loss = 'binary_crossentropy',metrics = ['accuracy'])\n",
        "# In the last layer if the value is Greater then 0.5 it is fake image and if the value is less then 0.5 it is real image"
      ]
    },
    {
      "cell_type": "code",
      "execution_count": 34,
      "metadata": {
        "colab": {
          "base_uri": "https://localhost:8080/"
        },
        "id": "xDGPT9jd8MtQ",
        "outputId": "8bd42ccd-0c82-47a4-91b8-1c1f037973cf"
      },
      "outputs": [
        {
          "name": "stdout",
          "output_type": "stream",
          "text": [
            "Epoch 1/10\n",
            "39/39 [==============================] - 23s 571ms/step - loss: 21.5251 - accuracy: 0.4941\n",
            "Epoch 2/10\n",
            "39/39 [==============================] - 22s 568ms/step - loss: 0.6969 - accuracy: 0.5020\n",
            "Epoch 3/10\n",
            "39/39 [==============================] - 22s 569ms/step - loss: 0.6969 - accuracy: 0.5130\n",
            "Epoch 4/10\n",
            "39/39 [==============================] - 23s 583ms/step - loss: 0.6915 - accuracy: 0.5000\n",
            "Epoch 5/10\n",
            "39/39 [==============================] - 23s 589ms/step - loss: 0.6841 - accuracy: 0.5423\n",
            "Epoch 6/10\n",
            "39/39 [==============================] - 22s 565ms/step - loss: 0.6894 - accuracy: 0.5085\n",
            "Epoch 7/10\n",
            "39/39 [==============================] - 24s 610ms/step - loss: 0.6823 - accuracy: 0.5130\n",
            "Epoch 8/10\n",
            "39/39 [==============================] - 24s 607ms/step - loss: 0.6783 - accuracy: 0.5228\n",
            "Epoch 9/10\n",
            "39/39 [==============================] - 24s 604ms/step - loss: 0.6721 - accuracy: 0.5488\n",
            "Epoch 10/10\n",
            "39/39 [==============================] - 23s 595ms/step - loss: 0.6644 - accuracy: 0.5579\n"
          ]
        },
        {
          "data": {
            "text/plain": [
              "<keras.src.callbacks.History at 0x20b2a1540d0>"
            ]
          },
          "execution_count": 34,
          "metadata": {},
          "output_type": "execute_result"
        }
      ],
      "source": [
        "#fitting our model on the dataset, train the model using X train and Y train\n",
        "model.fit(X_train,y_train,epochs=10,batch_size=40)"
      ]
    },
    {
      "cell_type": "code",
      "execution_count": 35,
      "metadata": {
        "id": "i6GuO9-b-2aD"
      },
      "outputs": [
        {
          "name": "stdout",
          "output_type": "stream",
          "text": [
            "48/48 [==============================] - 5s 100ms/step\n",
            "12/12 [==============================] - 1s 100ms/step\n"
          ]
        }
      ],
      "source": [
        "ypredtrain=model.predict(X_train)\n",
        "ypredtest=model.predict(X_test)"
      ]
    },
    {
      "cell_type": "code",
      "execution_count": 36,
      "metadata": {
        "id": "Vq9oJuz8N3SQ"
      },
      "outputs": [],
      "source": [
        "# Using the train model we made predictions\n",
        "yptrain=[]\n",
        "yptest=[]\n",
        "for y in ypredtrain:\n",
        "  if(y>=0.5):\n",
        "    yptrain.append(1)\n",
        "  else:\n",
        "    yptrain.append(0)\n",
        "for y in ypredtest:\n",
        "  if(y>=0.5):\n",
        "    yptest.append(1)\n",
        "  else:\n",
        "    yptest.append(0)\n"
      ]
    },
    {
      "cell_type": "code",
      "execution_count": 37,
      "metadata": {
        "colab": {
          "base_uri": "https://localhost:8080/"
        },
        "id": "hf0JPKJqSVNG",
        "outputId": "d0bc4e24-1376-4a6a-a298-8d6a21a4b9a3"
      },
      "outputs": [
        {
          "name": "stdout",
          "output_type": "stream",
          "text": [
            "the accuracy score for training set is 0.5755208333333334\n",
            "the accuracy score for test set is 0.5182291666666666\n"
          ]
        }
      ],
      "source": [
        "from sklearn.metrics import accuracy_score\n",
        "print(\"the accuracy score for training set is\",accuracy_score(y_train, yptrain))\n",
        "print(\"the accuracy score for test set is\",accuracy_score(y_test, yptest))"
      ]
    },
    {
      "cell_type": "code",
      "execution_count": null,
      "metadata": {},
      "outputs": [],
      "source": [
        "real = 'D:/major_project/one/Identifying-Human-Edited-Images-master/data/real_and_fake_face/training_real1/real_00015.jpg'\n",
        "fake = 'D:/major_project/one/Identifying-Human-Edited-Images-master/data/real_and_fake_face/training_fake/easy_11_1111.jpg'"
      ]
    },
    {
      "cell_type": "code",
      "execution_count": null,
      "metadata": {},
      "outputs": [],
      "source": []
    }
  ],
  "metadata": {
    "colab": {
      "collapsed_sections": [],
      "name": "hemangini_cnn_project.ipynb",
      "provenance": []
    },
    "kernelspec": {
      "display_name": "Python 3",
      "name": "python3"
    },
    "language_info": {
      "codemirror_mode": {
        "name": "ipython",
        "version": 3
      },
      "file_extension": ".py",
      "mimetype": "text/x-python",
      "name": "python",
      "nbconvert_exporter": "python",
      "pygments_lexer": "ipython3",
      "version": "3.11.4"
    }
  },
  "nbformat": 4,
  "nbformat_minor": 0
}
