{
  "cells": [
    {
      "cell_type": "markdown",
      "metadata": {
        "id": "aVg4zR-GIRkL"
      },
      "source": [
        "# Fake Image Detection "
      ]
    },
    {
      "cell_type": "markdown",
      "metadata": {
        "id": "fodd-0kSIRkQ"
      },
      "source": [
        "## Importing Libraries"
      ]
    },
    {
      "cell_type": "code",
      "execution_count": 22,
      "metadata": {
        "id": "qn4Bm2xBIRkQ",
        "pycharm": {
          "is_executing": false
        },
        "scrolled": true
      },
      "outputs": [],
      "source": [
        "import numpy as np\n",
        "import matplotlib.pyplot as plt\n",
        "%matplotlib inline\n",
        "#to generate same sequence of random numbers in whole file\n",
        "np.random.seed(2)\n",
        "from sklearn.model_selection import train_test_split\n",
        "from sklearn.metrics import confusion_matrix\n",
        "from tensorflow.keras.utils import to_categorical\n",
        "from keras.models import Sequential\n",
        "from keras.layers import Dense, Flatten, Conv2D, MaxPool2D, Dropout\n",
        "from tensorflow.keras.optimizers import Adam\n",
        "from keras.preprocessing.image import ImageDataGenerator\n",
        "#It is used during the training of a neural network to monitor a \n",
        "# specified metric (typically a validation metric) and stop training\n",
        "#  early if certain criteria are met. The purpose of using EarlyStopping\n",
        "#  is to prevent overfitting and to save time and resources when further\n",
        "#  training is unlikely to improve the model's performance.\n",
        "from keras.callbacks import EarlyStopping\n",
        "from PIL import Image, ImageChops, ImageEnhance\n",
        "import os\n",
        "import tensorflow as tf\n",
        "from sklearn.metrics import classification_report, confusion_matrix, accuracy_score, cohen_kappa_score\n",
        "\n"
      ]
    },
    {
      "cell_type": "markdown",
      "metadata": {},
      "source": [
        "PIL provides extensive capabilities for opening, manipulating, and saving many different image file formats.\n",
        "\n",
        "to open image\n",
        "\n",
        "ImageEnhance =>  can manipulate pixel colors in images, apply color mapping, and adjust brightness, contrast, and other color-related properties.\n",
        "\n",
        "ImageChops => It provides various arithmetic and logical operations that you can perform on images."
      ]
    },
    {
      "cell_type": "markdown",
      "metadata": {
        "id": "gk0SXUo_IRkU"
      },
      "source": [
        "## Making Dataset"
      ]
    },
    {
      "cell_type": "markdown",
      "metadata": {
        "id": "dXjFUHxWIRkW"
      },
      "source": [
        "## Convert to Error Level Analysis"
      ]
    },
    {
      "cell_type": "markdown",
      "metadata": {},
      "source": [
        "In summary, this code takes an input image, compresses it, calculates the difference between the original and compressed versions, scales the difference image, and enhances its brightness. The resulting ELA image highlights areas where digital manipulation may have occurred by making the manipulated regions appear as brighter or darker areas compared to the rest of the image.\n",
        "\n",
        "It generates ela_Image by enhancing brightness on the scale of pixel difference(difference between original and converted RGB image)"
      ]
    },
    {
      "cell_type": "code",
      "execution_count": 23,
      "metadata": {
        "id": "ZdBxF3y6IRkX",
        "pycharm": {
          "is_executing": false
        }
      },
      "outputs": [],
      "source": [
        "def convert_to_ela_image(path, quality):\n",
        "    # creating a temporary filename for an intermediate image\n",
        "    temp_filename = 'temp_file_name.jpg'\n",
        "    # filename for ela image that will be generated\n",
        "    ela_filename = 'temp_ela.png'\n",
        "    \n",
        "    # open image and convert to RGB\n",
        "    image = Image.open(path).convert('RGB')\n",
        "\n",
        "    # save image as jpg and keep quality as before\n",
        "    image.save(temp_filename, 'JPEG', quality = quality)\n",
        "    temp_image = Image.open(temp_filename)\n",
        "    \n",
        "    # calculate pixel difference between original image and RGB (new image) \n",
        "    # which will represents areas of image that have been altered.\n",
        "    ela_image = ImageChops.difference(image, temp_image)\n",
        "    \n",
        "    # calculating minimum and maximum pixel values in the images\n",
        "    extrema = ela_image.getextrema()\n",
        "\n",
        "    # finds the maximum difference value among the extrema. This value is used to scale the ELA image.\n",
        "    max_diff = max([ex[1] for ex in extrema])\n",
        "\n",
        "    # ensuring max_diff is not zero to avoid division by zero.\n",
        "    if max_diff == 0:\n",
        "        max_diff = 1\n",
        "\n",
        "    # calculates a scaling factor based on the maximum difference value. This factor\n",
        "    # is used to stretch the ELA image's pixel values across the full 0-255 range.\n",
        "    scale = 255.0 / max_diff\n",
        "    \n",
        "    # enhances the brightness of the ELA image by applying the previously calculated \n",
        "    # scaling factor for making the manipulated regions stand out more distinctly.\n",
        "    ela_image = ImageEnhance.Brightness(ela_image).enhance(scale)\n",
        "    \n",
        "    return ela_image"
      ]
    },
    {
      "cell_type": "markdown",
      "metadata": {
        "id": "coyRtK_DIRka"
      },
      "source": [
        "\n",
        "## Data preparation"
      ]
    },
    {
      "cell_type": "markdown",
      "metadata": {
        "id": "IbV4G3ifIRkb"
      },
      "source": [
        "### Read dataset and conversion to ELA"
      ]
    },
    {
      "cell_type": "code",
      "execution_count": 24,
      "metadata": {
        "id": "LLd2r5toIRkb",
        "pycharm": {
          "is_executing": false
        }
      },
      "outputs": [],
      "source": [
        "image_size = (128, 128)"
      ]
    },
    {
      "cell_type": "markdown",
      "metadata": {},
      "source": [
        "this function converts the image into ela_image then resize it and flattens it to store in the 1D array as CNN requires data to be in 1D array "
      ]
    },
    {
      "cell_type": "code",
      "execution_count": 25,
      "metadata": {
        "id": "SHLbguFLMlrO"
      },
      "outputs": [],
      "source": [
        "def prepare_image(image_path):\n",
        "    return np.array(convert_to_ela_image(image_path, 90).resize(image_size)).flatten() / 255.0"
      ]
    },
    {
      "cell_type": "code",
      "execution_count": 26,
      "metadata": {
        "id": "UuLhY_4tIRkc",
        "pycharm": {
          "is_executing": false
        }
      },
      "outputs": [],
      "source": [
        "X = []\n",
        "Y = []"
      ]
    },
    {
      "cell_type": "markdown",
      "metadata": {},
      "source": [
        "this function processes all the files present in Au and convert them:\n",
        "\n",
        "first into ela_image and after resizing it, it flattens the layers of image and converts in 1D array\n",
        "\n",
        "X stores all the flattened images and Y store the count of images"
      ]
    },
    {
      "cell_type": "code",
      "execution_count": 27,
      "metadata": {},
      "outputs": [
        {
          "name": "stdout",
          "output_type": "stream",
          "text": [
            "Processing 500 images\n",
            "Processing 1000 images\n",
            "Processing 1500 images\n",
            "Processing 2000 images\n",
            "Processing 2500 images\n",
            "Processing 3000 images\n",
            "Processing 3500 images\n",
            "Processing 4000 images\n",
            "Processing 4500 images\n",
            "Processing 5000 images\n",
            "5123 5123\n"
          ]
        }
      ],
      "source": [
        "import random\n",
        "path= \"D:/major_project/dataset/real\"\n",
        "for dirname, _, filenames in os.walk(path):\n",
        "    for filename in filenames:\n",
        "        # if filename.endswith('jpg') or filename.endswith('png') or filename.endswith('tif'):\n",
        "            full_path = os.path.join(dirname, filename)\n",
        "            X.append(prepare_image(full_path))\n",
        "            Y.append(1)\n",
        "            if len(Y) % 500 == 0:\n",
        "                print(f'Processing {len(Y)} images')\n",
        "\n",
        "random.shuffle(X)\n",
        "print(len(X), len(Y))"
      ]
    },
    {
      "cell_type": "markdown",
      "metadata": {},
      "source": [
        "this function processes all the files present in Tp and convert them:\n",
        "\n",
        "first into ela_image and after resizing it, it flattens the layers of image and converts in 1D array\n",
        "\n",
        "X stores all the flattened images and Y store the count of images\n",
        "\n",
        "now X stores all the images(Au + Tp)"
      ]
    },
    {
      "cell_type": "code",
      "execution_count": 28,
      "metadata": {},
      "outputs": [
        {
          "name": "stdout",
          "output_type": "stream",
          "text": [
            "Processing 5500 images\n",
            "Processing 6000 images\n",
            "Processing 6500 images\n",
            "Processing 7000 images\n",
            "Processing 7500 images\n",
            "Processing 8000 images\n",
            "Processing 8500 images\n",
            "Processing 9000 images\n",
            "Processing 9500 images\n",
            "Processing 10000 images\n",
            "10246 10246\n"
          ]
        }
      ],
      "source": [
        "path = \"D:/major_project/dataset/fake\"\n",
        "#path = '/content/drive/MyDrive/Colab Notebooks/Image_Detector/CASIA2/Fake'\n",
        "for dirname, _, filenames in os.walk(path):\n",
        "    for filename in filenames:\n",
        "        # if filename.endswith('jpg') or filename.endswith('png'):\n",
        "            full_path = os.path.join(dirname, filename)\n",
        "            X.append(prepare_image(full_path))\n",
        "            Y.append(0)\n",
        "            if len(Y) % 500 == 0:\n",
        "                print(f'Processing {len(Y)} images')\n",
        "\n",
        "print(len(X), len(Y))"
      ]
    },
    {
      "cell_type": "code",
      "execution_count": 29,
      "metadata": {
        "id": "7mBhluLlIRkd",
        "pycharm": {
          "is_executing": false
        }
      },
      "outputs": [],
      "source": [
        "# converting X into array \n",
        "X = np.array(X)\n",
        "#used when you have a target variable (labels or classes) that is represented as integers and you want to convert it into a binary matrix format suitable for training machine learning models, especially neural networks.\n",
        "# In Y there are two classes 1 for real and 0 for fake so to_categorical() converts this array into 2D array of labelled classes.\n",
        "# this Y will look like [[1,0],[0,1]] for 0 and 1 label.\n",
        "Y = to_categorical(Y, 2)\n",
        "# # Reshape image data for a convolutional neural network\n",
        "#  # Batch size, height, width, channels\n",
        "X = X.reshape(-1, 128, 128, 3)"
      ]
    },
    {
      "cell_type": "markdown",
      "metadata": {
        "id": "_Td1GNawIRke"
      },
      "source": [
        "## CNN building"
      ]
    },
    {
      "cell_type": "code",
      "execution_count": 30,
      "metadata": {
        "id": "R_oWphUCIRkf",
        "pycharm": {
          "is_executing": false
        }
      },
      "outputs": [],
      "source": [
        "def build_model():\n",
        "    #A sequential model is a linear stack of layers, where you can add layers one by one in a sequential fashion\n",
        "    # Now we are building a model by adding layers of size same as image size.\n",
        "    # These layers define the architecture of the neural network.\n",
        "    model = Sequential()\n",
        "    # adding two 2D layers having size as that of input image(training image)\n",
        "    model.add(Conv2D(filters = 32, kernel_size = (5, 5), padding = 'valid', activation = 'relu', input_shape = (128, 128, 3)))\n",
        "    model.add(Conv2D(filters = 32, kernel_size = (5, 5), padding = 'valid', activation = 'relu', input_shape = (128, 128, 3)))\n",
        "    # now we are adding maxPool layer which will create square region of 5x5 and retains the maximum value and discard other(just like KNN do to classify class)\n",
        "    model.add(MaxPool2D(pool_size = (2, 2)))\n",
        "    #  It is used to prevent overfitting and improve the generalization of the model during training. Dropout is a form of regularization that randomly deactivates a fraction of neurons or units in a neural network during each training batch\n",
        "    # Add a Dropout layer with a dropout rate of 0.25 (25% of neurons deactivated during training)\n",
        "    model.add(Dropout(0.25))\n",
        "    # Add a Flatten layer to transition to fully connected layers (flattens output image coming from Convo2D, to give it as an input in dense interconnected layer)\n",
        "    model.add(Flatten())\n",
        "    # Add Input hidden layers with activation function\n",
        "    model.add(Dense(256, activation = 'relu'))\n",
        "    # Add a Dropout layer with a dropout rate of 0.5 (50% of neurons deactivated during training)\n",
        "    model.add(Dropout(0.5))\n",
        "    # Add Output layer with activation function\n",
        "    model.add(Dense(2, activation = 'softmax'))\n",
        "    return model"
      ]
    },
    {
      "cell_type": "code",
      "execution_count": 31,
      "metadata": {
        "colab": {
          "base_uri": "https://localhost:8080/"
        },
        "id": "xfiVDGEZIRkf",
        "outputId": "129dc29c-fde6-43a3-c551-c70565e7147f",
        "pycharm": {
          "is_executing": false
        }
      },
      "outputs": [
        {
          "name": "stdout",
          "output_type": "stream",
          "text": [
            "Model: \"sequential_1\"\n",
            "_________________________________________________________________\n",
            " Layer (type)                Output Shape              Param #   \n",
            "=================================================================\n",
            " conv2d_2 (Conv2D)           (None, 124, 124, 32)      2432      \n",
            "                                                                 \n",
            " conv2d_3 (Conv2D)           (None, 120, 120, 32)      25632     \n",
            "                                                                 \n",
            " max_pooling2d_1 (MaxPoolin  (None, 60, 60, 32)        0         \n",
            " g2D)                                                            \n",
            "                                                                 \n",
            " dropout_2 (Dropout)         (None, 60, 60, 32)        0         \n",
            "                                                                 \n",
            " flatten_1 (Flatten)         (None, 115200)            0         \n",
            "                                                                 \n",
            " dense_2 (Dense)             (None, 256)               29491456  \n",
            "                                                                 \n",
            " dropout_3 (Dropout)         (None, 256)               0         \n",
            "                                                                 \n",
            " dense_3 (Dense)             (None, 2)                 514       \n",
            "                                                                 \n",
            "=================================================================\n",
            "Total params: 29520034 (112.61 MB)\n",
            "Trainable params: 29520034 (112.61 MB)\n",
            "Non-trainable params: 0 (0.00 Byte)\n",
            "_________________________________________________________________\n"
          ]
        }
      ],
      "source": [
        "model = build_model()\n",
        "model.summary()"
      ]
    },
    {
      "cell_type": "markdown",
      "metadata": {},
      "source": [
        "# Split into 9 : 1 then 8 : 2 then 7 : 3\n",
        "# test_size = 0.1 then 0.2 then 0.3"
      ]
    },
    {
      "cell_type": "markdown",
      "metadata": {},
      "source": [
        "Splitting the dataset into features (X) and target labels (Y)\n",
        "\n",
        "Splitting the data into a training set (80%) and a testing set (20%)"
      ]
    },
    {
      "cell_type": "code",
      "execution_count": 32,
      "metadata": {},
      "outputs": [
        {
          "name": "stdout",
          "output_type": "stream",
          "text": [
            "8196 8196\n",
            "2050 2050\n"
          ]
        }
      ],
      "source": [
        "X_train, X_val, Y_train, Y_val = train_test_split(X, Y, test_size = 0.2, random_state=5)\n",
        "# again converting 2D array to 1D array\n",
        "X = X.reshape(-1,1,1,1)\n",
        "print(len(X_train), len(Y_train))\n",
        "print(len(X_val), len(Y_val))"
      ]
    },
    {
      "cell_type": "markdown",
      "metadata": {
        "id": "YjsdEWvPIRki"
      },
      "source": [
        "### Model training"
      ]
    },
    {
      "cell_type": "code",
      "execution_count": 33,
      "metadata": {},
      "outputs": [],
      "source": [
        "# epochs = 30\n",
        "epochs = 1\n",
        "batch_size = 32\n",
        "\n",
        "from tensorflow.keras.optimizers import Adam\n",
        "\n",
        "init_lr = 1e-4\n",
        "optimizer = Adam(learning_rate=init_lr)"
      ]
    },
    {
      "cell_type": "markdown",
      "metadata": {},
      "source": [
        "decay_steps=1000 specifies the number of steps (or training iterations) after which the learning rate will be updated.\n",
        "\n",
        "decay_rate=0.9 sets the rate at which the learning rate will decay. In this case, it will decay by a factor of 0.9 after every decay_steps iterations.\n",
        "\n",
        "This code sets up a learning rate schedule that starts at 0.01, decays by a factor of 0.9 every 1000 training steps, and uses this schedule to adjust the learning rate of an Adam optimizer during training. This combination of a learning rate schedule and optimizer is commonly used in deep learning to train neural networks effectively."
      ]
    },
    {
      "cell_type": "code",
      "execution_count": 34,
      "metadata": {},
      "outputs": [],
      "source": [
        "init_lr = 1e-4\n",
        "decay_steps = 1000  # You can adjust this value based on your training schedule.\n",
        "decay_rate = 0.9    # You can adjust this value based on your desired decay rate.\n",
        "\n",
        "decay_lr = tf.keras.optimizers.schedules.ExponentialDecay(\n",
        "    initial_learning_rate=init_lr,\n",
        "    decay_steps=decay_steps,\n",
        "    decay_rate=decay_rate,\n",
        ")\n",
        "\n",
        "optimizer = tf.keras.optimizers.Adam(learning_rate=decay_lr)\n"
      ]
    },
    {
      "cell_type": "markdown",
      "metadata": {},
      "source": [
        "The compile function in TensorFlow and Keras is used to configure the training process of a neural network model before training it on your dataset. When you compile a model, you specify various settings that control how the training will be performed. These settings include the optimization algorithm (optimizer), the loss function, and the evaluation metrics."
      ]
    },
    {
      "cell_type": "code",
      "execution_count": 35,
      "metadata": {
        "id": "srqNi_i0TUyj"
      },
      "outputs": [],
      "source": [
        "model.compile(optimizer = optimizer, loss = 'binary_crossentropy', metrics = ['accuracy'])"
      ]
    },
    {
      "cell_type": "markdown",
      "metadata": {},
      "source": [
        "early stopping is used to stop the compilation of model after certain criteria meets."
      ]
    },
    {
      "cell_type": "code",
      "execution_count": 36,
      "metadata": {
        "id": "bLrQ8KgPTZS6"
      },
      "outputs": [],
      "source": [
        "early_stopping = EarlyStopping(monitor = 'val_accuracy',\n",
        "                              min_delta = 0,\n",
        "                              patience = 2,\n",
        "                              verbose = 0,\n",
        "                              mode = 'auto')"
      ]
    },
    {
      "cell_type": "code",
      "execution_count": 37,
      "metadata": {
        "colab": {
          "base_uri": "https://localhost:8080/"
        },
        "id": "1mt_PMwVTZ1g",
        "outputId": "3f3278c3-c10e-4fb3-ca8a-38723db23f57"
      },
      "outputs": [
        {
          "name": "stdout",
          "output_type": "stream",
          "text": [
            "257/257 [==============================] - 456s 2s/step - loss: 0.4642 - accuracy: 0.7742 - val_loss: 0.3401 - val_accuracy: 0.8780\n"
          ]
        }
      ],
      "source": [
        "hist = model.fit(X_train,\n",
        "                 Y_train,\n",
        "                 batch_size = batch_size,\n",
        "                 epochs = epochs,\n",
        "                validation_data = (X_val, Y_val),\n",
        "                callbacks = [early_stopping])"
      ]
    },
    {
      "cell_type": "code",
      "execution_count": 38,
      "metadata": {
        "id": "XjlYeSE_UNuL"
      },
      "outputs": [],
      "source": [
        "# model.save('model_casia_run1.h5')"
      ]
    },
    {
      "cell_type": "code",
      "execution_count": 39,
      "metadata": {
        "colab": {
          "base_uri": "https://localhost:8080/",
          "height": 265
        },
        "id": "9YpvioVbbfAv",
        "outputId": "dcbd5b8f-3640-42dc-c7d6-e50d55714a28"
      },
      "outputs": [
        {
          "data": {
            "image/png": "[encoded data removed]",
            "text/plain": [
              "<Figure size 640x480 with 2 Axes>"
            ]
          },
          "metadata": {},
          "output_type": "display_data"
        }
      ],
      "source": [
        "fig, ax = plt.subplots(2,1)\n",
        "ax[0].plot(hist.history['loss'], color='b', label=\"Training loss\")\n",
        "ax[0].plot(hist.history['val_loss'], color='r', label=\"validation loss\",axes =ax[0])\n",
        "legend = ax[0].legend(loc='best', shadow=True)\n",
        "\n",
        "ax[1].plot(hist.history['accuracy'], color='b', label=\"Training accuracy\")\n",
        "ax[1].plot(hist.history['val_accuracy'], color='r',label=\"Validation accuracy\")\n",
        "legend = ax[1].legend(loc='best', shadow=True)"
      ]
    },
    {
      "cell_type": "code",
      "execution_count": 40,
      "metadata": {},
      "outputs": [
        {
          "name": "stdout",
          "output_type": "stream",
          "text": [
            "65/65 [==============================] - 17s 260ms/step\n",
            "Overall Accuracy on Validation Set: 87.80%\n",
            "Classification Report on Validation Set:\n",
            "              precision    recall  f1-score   support\n",
            "\n",
            "        fake       0.84      0.92      0.88      1009\n",
            "        real       0.92      0.84      0.87      1041\n",
            "\n",
            "    accuracy                           0.88      2050\n",
            "   macro avg       0.88      0.88      0.88      2050\n",
            "weighted avg       0.88      0.88      0.88      2050\n",
            "\n",
            "Confusion Matrix on Validation Set:\n",
            "[[930  79]\n",
            " [171 870]]\n",
            "False Positive Rate (FPR): 7.83%\n",
            "False Negative Rate (FNR): 16.43%\n",
            "Cohen's Kappa on Validation Set: 0.7564\n"
          ]
        }
      ],
      "source": [
        "\n",
        "class_names = ['fake', 'real']\n",
        "# After training the model, you can use X_val and Y_val for evaluation\n",
        "Y_pred_val = model.predict(X_val)\n",
        "\n",
        "# Convert predictions classes to one hot vectors\n",
        "Y_pred_classes_val = np.argmax(Y_pred_val, axis=1)\n",
        "# Convert validation observations to one hot vectors\n",
        "Y_true_val = np.argmax(Y_val, axis=1)\n",
        "\n",
        "# Calculate overall accuracy on validation set\n",
        "overall_accuracy_val = accuracy_score(Y_true_val, Y_pred_classes_val)\n",
        "print(f'Overall Accuracy on Validation Set: {overall_accuracy_val * 100:.2f}%')\n",
        "\n",
        "# Calculate other metrics using classification_report\n",
        "report_val = classification_report(Y_true_val, Y_pred_classes_val, target_names=class_names)\n",
        "print('Classification Report on Validation Set:')\n",
        "print(report_val)\n",
        "\n",
        "# Calculate confusion matrix on validation set\n",
        "conf_matrix_val = confusion_matrix(Y_true_val, Y_pred_classes_val)\n",
        "print('Confusion Matrix on Validation Set:')\n",
        "print(conf_matrix_val)\n",
        "\n",
        "true_positive = conf_matrix_val[1, 1]\n",
        "false_positive = conf_matrix_val[0, 1]\n",
        "false_negative = conf_matrix_val[1, 0]\n",
        "true_negative = conf_matrix_val[0, 0]\n",
        "\n",
        "# Calculate False Positive Rate (FPR) and False Negative Rate (FNR)\n",
        "fpr = false_positive / (false_positive + true_negative)\n",
        "fnr = false_negative / (false_negative + true_positive)\n",
        "\n",
        "print(f'False Positive Rate (FPR): {fpr * 100:.2f}%')\n",
        "print(f'False Negative Rate (FNR): {fnr * 100:.2f}%')\n",
        "\n",
        "# Calculate Cohen's Kappa on validation set\n",
        "cohen_kappa_val = cohen_kappa_score(Y_true_val, Y_pred_classes_val)\n",
        "print(f'Cohen\\'s Kappa on Validation Set: {cohen_kappa_val:.4f}')"
      ]
    }
  ],
  "metadata": {
    "accelerator": "GPU",
    "colab": {
      "collapsed_sections": [],
      "name": "Fake Image .ipynb",
      "provenance": []
    },
    "kernelspec": {
      "display_name": "Python 3",
      "name": "python3"
    },
    "language_info": {
      "codemirror_mode": {
        "name": "ipython",
        "version": 3
      },
      "file_extension": ".py",
      "mimetype": "text/x-python",
      "name": "python",
      "nbconvert_exporter": "python",
      "pygments_lexer": "ipython3",
      "version": "3.11.4"
    },
    "pycharm": {
      "stem_cell": {
        "cell_type": "raw",
        "metadata": {
          "collapsed": false
        },
        "source": []
      }
    }
  },
  "nbformat": 4,
  "nbformat_minor": 0
}
